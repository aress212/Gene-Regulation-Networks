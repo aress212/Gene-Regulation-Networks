{
 "metadata": {
  "signature": "sha256:02449672eb5fc8906e3326dd5924f8f24e00244820c5082413c368ac62289aed"
 },
 "nbformat": 3,
 "nbformat_minor": 0,
 "worksheets": [
  {
   "cells": [
    {
     "cell_type": "code",
     "collapsed": false,
     "input": [
      "import io\n",
      "import os\n",
      "import sys\n",
      "import types\n",
      "import matplotlib.pyplot as p\n",
      "from IPython.nbformat import current\n",
      "from IPython.core.interactiveshell import InteractiveShell\n",
      "import tellurium as te\n",
      "import notebooktools as nb\n",
      "import numpy"
     ],
     "language": "python",
     "metadata": {},
     "outputs": [],
     "prompt_number": 2
    },
    {
     "cell_type": "code",
     "collapsed": false,
     "input": [
      "GeneNetworks = '''\n",
      "//\n",
      "dna1: --P1--G1--\n",
      "dna2: --P2--G2--\n",
      "dna3: --P3--G3--\n",
      "\n",
      "P1 = a / (a+X1^n);  // X1 NOT\n",
      "G1: -> Y1;\n",
      "Y1 -> ; k_dgr_Y1*Y1  // Y3 degrades\n",
      "P2 = (X1^n + X2^n) / (a + X1^n + X2^n + b*(X1*X2)^n);  // X1 OR X2\n",
      "G2: -> Y2;\n",
      "Y2 -> ; k_dgr_Y2*Y2  // Y3 degrades\n",
      "P3 = b*(X1*X2)^n / (a + X1^n + X2^n + b*(X1*X2)^n);  // X1 AND X2\n",
      "G3: -> Y3;\n",
      "Y3 -> ; k_dgr_Y3*Y3  // Y3 degrades\n",
      "\n",
      "k_dgr_Y1 = 0.1;\n",
      "k_dgr_Y2 = 0.1;\n",
      "k_dgr_Y3 = 0.1;\n",
      "a = 0.001; b = 1000; n = 10\n",
      "lo = 0.2; hi = (1-lo)\n",
      "X1 = 0; X2 = 0; Y1 = 0; Y2 = 0; Y3 = 0\n",
      "X1=lo; X2=lo\n",
      "\n",
      "at  (time < 100):              X1 = lo, X2 = lo // Y1 = 1 Y2 = 0 Y3=0\n",
      "at (time > 100 && time < 201): X1 = lo, X2 = hi // Y1 = 1 Y2 = 1 Y3=0\n",
      "at (time > 200 && time < 301): X1 = hi, X2 = lo // Y1 = 0 Y2 = 1 Y3=0\n",
      "at (time > 300 && time < 401): X1 = hi, X2 = hi // Y1 = 0 Y2 = 0 Y3=1\n",
      "'''\n",
      "\n",
      "r = te.loadAntimonyModel(GeneNetworks)\n",
      "model = r.simulate(0, 400, 1000)\n",
      "te.plotWithLegend(r, numpy.vstack ((model)))"
     ],
     "language": "python",
     "metadata": {},
     "outputs": [
      {
       "metadata": {},
       "output_type": "display_data",
       "png": "[encoded data removed]",
       "text": [
        "<matplotlib.figure.Figure at 0x3d3abd0>"
       ]
      },
      {
       "metadata": {},
       "output_type": "pyout",
       "prompt_number": 38,
       "text": [
        "<module 'matplotlib.pyplot' from '/usr/local/lib/python2.7/dist-packages/matplotlib/pyplot.pyc'>"
       ]
      }
     ],
     "prompt_number": 38
    },
    {
     "cell_type": "code",
     "collapsed": false,
     "input": [],
     "language": "python",
     "metadata": {},
     "outputs": [],
     "prompt_number": 10
    },
    {
     "cell_type": "code",
     "collapsed": false,
     "input": [],
     "language": "python",
     "metadata": {},
     "outputs": []
    }
   ],
   "metadata": {}
  }
 ]
}